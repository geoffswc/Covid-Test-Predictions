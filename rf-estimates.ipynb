{
 "cells": [
  {
   "cell_type": "code",
   "execution_count": 1,
   "metadata": {},
   "outputs": [],
   "source": [
    "import pandas as pd\n",
    "from pandasql import sqldf\n",
    "pysqldf = lambda q: sqldf(q, globals())"
   ]
  },
  {
   "cell_type": "code",
   "execution_count": 2,
   "metadata": {},
   "outputs": [],
   "source": [
    "pd.set_option('display.max_columns', None)"
   ]
  },
  {
   "cell_type": "code",
   "execution_count": 3,
   "metadata": {},
   "outputs": [],
   "source": [
    "df_symptoms = pd.read_csv('test_data/results_symptoms.csv')"
   ]
  },
  {
   "cell_type": "code",
   "execution_count": 4,
   "metadata": {},
   "outputs": [
    {
     "data": {
      "text/plain": [
       "93995"
      ]
     },
     "execution_count": 4,
     "metadata": {},
     "output_type": "execute_result"
    }
   ],
   "source": [
    "len(df_symptoms)"
   ]
  },
  {
   "cell_type": "code",
   "execution_count": 5,
   "metadata": {},
   "outputs": [
    {
     "data": {
      "text/plain": [
       "Index(['R', 'temperature', 'high_risk_exposure_occupation',\n",
       "       'high_risk_interactions', 'labored_respiration', 'rhonchi', 'cough',\n",
       "       'fever', 'sob', 'diarrhea', 'fatigue', 'headache', 'loss_of_smell',\n",
       "       'loss_of_taste', 'runny_nose', 'muscle_sore', 'sore_throat', 'wheezes'],\n",
       "      dtype='object')"
      ]
     },
     "execution_count": 5,
     "metadata": {},
     "output_type": "execute_result"
    }
   ],
   "source": [
    "df_symptoms.columns"
   ]
  },
  {
   "cell_type": "code",
   "execution_count": 55,
   "metadata": {},
   "outputs": [
    {
     "data": {
      "text/html": [
       "<div>\n",
       "<style scoped>\n",
       "    .dataframe tbody tr th:only-of-type {\n",
       "        vertical-align: middle;\n",
       "    }\n",
       "\n",
       "    .dataframe tbody tr th {\n",
       "        vertical-align: top;\n",
       "    }\n",
       "\n",
       "    .dataframe thead th {\n",
       "        text-align: right;\n",
       "    }\n",
       "</style>\n",
       "<table border=\"1\" class=\"dataframe\">\n",
       "  <thead>\n",
       "    <tr style=\"text-align: right;\">\n",
       "      <th></th>\n",
       "      <th>R</th>\n",
       "      <th>temperature</th>\n",
       "      <th>high_risk_exposure_occupation</th>\n",
       "      <th>high_risk_interactions</th>\n",
       "      <th>labored_respiration</th>\n",
       "      <th>rhonchi</th>\n",
       "      <th>cough</th>\n",
       "      <th>fever</th>\n",
       "      <th>sob</th>\n",
       "      <th>diarrhea</th>\n",
       "      <th>fatigue</th>\n",
       "      <th>headache</th>\n",
       "      <th>loss_of_smell</th>\n",
       "      <th>loss_of_taste</th>\n",
       "      <th>runny_nose</th>\n",
       "      <th>muscle_sore</th>\n",
       "      <th>sore_throat</th>\n",
       "      <th>wheezes</th>\n",
       "      <th>id</th>\n",
       "    </tr>\n",
       "  </thead>\n",
       "  <tbody>\n",
       "    <tr>\n",
       "      <th>count</th>\n",
       "      <td>93995.000000</td>\n",
       "      <td>93995.000000</td>\n",
       "      <td>93995.000000</td>\n",
       "      <td>93995.000000</td>\n",
       "      <td>93995.000000</td>\n",
       "      <td>93995.000000</td>\n",
       "      <td>93995.000000</td>\n",
       "      <td>93995.000000</td>\n",
       "      <td>93995.000000</td>\n",
       "      <td>93995.000000</td>\n",
       "      <td>93995.000000</td>\n",
       "      <td>93995.000000</td>\n",
       "      <td>93995.000000</td>\n",
       "      <td>93995.000000</td>\n",
       "      <td>93995.000000</td>\n",
       "      <td>93995.000000</td>\n",
       "      <td>93995.000000</td>\n",
       "      <td>93995.000000</td>\n",
       "      <td>93995.000000</td>\n",
       "    </tr>\n",
       "    <tr>\n",
       "      <th>mean</th>\n",
       "      <td>0.013969</td>\n",
       "      <td>36.794765</td>\n",
       "      <td>0.073903</td>\n",
       "      <td>0.205514</td>\n",
       "      <td>0.007959</td>\n",
       "      <td>0.303590</td>\n",
       "      <td>0.062194</td>\n",
       "      <td>0.028477</td>\n",
       "      <td>0.030302</td>\n",
       "      <td>0.020222</td>\n",
       "      <td>0.065147</td>\n",
       "      <td>0.057786</td>\n",
       "      <td>0.007068</td>\n",
       "      <td>0.007206</td>\n",
       "      <td>0.036873</td>\n",
       "      <td>0.036136</td>\n",
       "      <td>0.062977</td>\n",
       "      <td>0.346879</td>\n",
       "      <td>46997.000000</td>\n",
       "    </tr>\n",
       "    <tr>\n",
       "      <th>std</th>\n",
       "      <td>0.117362</td>\n",
       "      <td>0.205696</td>\n",
       "      <td>0.261379</td>\n",
       "      <td>0.346630</td>\n",
       "      <td>0.063993</td>\n",
       "      <td>0.229147</td>\n",
       "      <td>0.241490</td>\n",
       "      <td>0.144638</td>\n",
       "      <td>0.171230</td>\n",
       "      <td>0.140620</td>\n",
       "      <td>0.246555</td>\n",
       "      <td>0.233112</td>\n",
       "      <td>0.083689</td>\n",
       "      <td>0.084499</td>\n",
       "      <td>0.188264</td>\n",
       "      <td>0.186448</td>\n",
       "      <td>0.242686</td>\n",
       "      <td>0.257399</td>\n",
       "      <td>27134.163613</td>\n",
       "    </tr>\n",
       "    <tr>\n",
       "      <th>min</th>\n",
       "      <td>0.000000</td>\n",
       "      <td>33.500000</td>\n",
       "      <td>0.000000</td>\n",
       "      <td>0.000000</td>\n",
       "      <td>0.000000</td>\n",
       "      <td>0.000000</td>\n",
       "      <td>0.000000</td>\n",
       "      <td>0.000000</td>\n",
       "      <td>0.000000</td>\n",
       "      <td>0.000000</td>\n",
       "      <td>0.000000</td>\n",
       "      <td>0.000000</td>\n",
       "      <td>0.000000</td>\n",
       "      <td>0.000000</td>\n",
       "      <td>0.000000</td>\n",
       "      <td>0.000000</td>\n",
       "      <td>0.000000</td>\n",
       "      <td>0.000000</td>\n",
       "      <td>0.000000</td>\n",
       "    </tr>\n",
       "    <tr>\n",
       "      <th>25%</th>\n",
       "      <td>0.000000</td>\n",
       "      <td>36.794765</td>\n",
       "      <td>0.000000</td>\n",
       "      <td>0.000000</td>\n",
       "      <td>0.000000</td>\n",
       "      <td>0.303590</td>\n",
       "      <td>0.000000</td>\n",
       "      <td>0.000000</td>\n",
       "      <td>0.000000</td>\n",
       "      <td>0.000000</td>\n",
       "      <td>0.000000</td>\n",
       "      <td>0.000000</td>\n",
       "      <td>0.000000</td>\n",
       "      <td>0.000000</td>\n",
       "      <td>0.000000</td>\n",
       "      <td>0.000000</td>\n",
       "      <td>0.000000</td>\n",
       "      <td>0.346879</td>\n",
       "      <td>23498.500000</td>\n",
       "    </tr>\n",
       "    <tr>\n",
       "      <th>50%</th>\n",
       "      <td>0.000000</td>\n",
       "      <td>36.794765</td>\n",
       "      <td>0.000000</td>\n",
       "      <td>0.000000</td>\n",
       "      <td>0.000000</td>\n",
       "      <td>0.303590</td>\n",
       "      <td>0.000000</td>\n",
       "      <td>0.000000</td>\n",
       "      <td>0.000000</td>\n",
       "      <td>0.000000</td>\n",
       "      <td>0.000000</td>\n",
       "      <td>0.000000</td>\n",
       "      <td>0.000000</td>\n",
       "      <td>0.000000</td>\n",
       "      <td>0.000000</td>\n",
       "      <td>0.000000</td>\n",
       "      <td>0.000000</td>\n",
       "      <td>0.346879</td>\n",
       "      <td>46997.000000</td>\n",
       "    </tr>\n",
       "    <tr>\n",
       "      <th>75%</th>\n",
       "      <td>0.000000</td>\n",
       "      <td>36.800000</td>\n",
       "      <td>0.000000</td>\n",
       "      <td>0.205514</td>\n",
       "      <td>0.007959</td>\n",
       "      <td>0.303590</td>\n",
       "      <td>0.000000</td>\n",
       "      <td>0.028477</td>\n",
       "      <td>0.000000</td>\n",
       "      <td>0.000000</td>\n",
       "      <td>0.000000</td>\n",
       "      <td>0.000000</td>\n",
       "      <td>0.000000</td>\n",
       "      <td>0.000000</td>\n",
       "      <td>0.000000</td>\n",
       "      <td>0.000000</td>\n",
       "      <td>0.000000</td>\n",
       "      <td>0.346879</td>\n",
       "      <td>70495.500000</td>\n",
       "    </tr>\n",
       "    <tr>\n",
       "      <th>max</th>\n",
       "      <td>1.000000</td>\n",
       "      <td>39.600000</td>\n",
       "      <td>1.000000</td>\n",
       "      <td>1.000000</td>\n",
       "      <td>1.000000</td>\n",
       "      <td>1.000000</td>\n",
       "      <td>1.000000</td>\n",
       "      <td>1.000000</td>\n",
       "      <td>1.000000</td>\n",
       "      <td>1.000000</td>\n",
       "      <td>1.000000</td>\n",
       "      <td>1.000000</td>\n",
       "      <td>1.000000</td>\n",
       "      <td>1.000000</td>\n",
       "      <td>1.000000</td>\n",
       "      <td>1.000000</td>\n",
       "      <td>1.000000</td>\n",
       "      <td>1.000000</td>\n",
       "      <td>93994.000000</td>\n",
       "    </tr>\n",
       "  </tbody>\n",
       "</table>\n",
       "</div>"
      ],
      "text/plain": [
       "                  R   temperature  high_risk_exposure_occupation  \\\n",
       "count  93995.000000  93995.000000                   93995.000000   \n",
       "mean       0.013969     36.794765                       0.073903   \n",
       "std        0.117362      0.205696                       0.261379   \n",
       "min        0.000000     33.500000                       0.000000   \n",
       "25%        0.000000     36.794765                       0.000000   \n",
       "50%        0.000000     36.794765                       0.000000   \n",
       "75%        0.000000     36.800000                       0.000000   \n",
       "max        1.000000     39.600000                       1.000000   \n",
       "\n",
       "       high_risk_interactions  labored_respiration       rhonchi  \\\n",
       "count            93995.000000         93995.000000  93995.000000   \n",
       "mean                 0.205514             0.007959      0.303590   \n",
       "std                  0.346630             0.063993      0.229147   \n",
       "min                  0.000000             0.000000      0.000000   \n",
       "25%                  0.000000             0.000000      0.303590   \n",
       "50%                  0.000000             0.000000      0.303590   \n",
       "75%                  0.205514             0.007959      0.303590   \n",
       "max                  1.000000             1.000000      1.000000   \n",
       "\n",
       "              cough         fever           sob      diarrhea       fatigue  \\\n",
       "count  93995.000000  93995.000000  93995.000000  93995.000000  93995.000000   \n",
       "mean       0.062194      0.028477      0.030302      0.020222      0.065147   \n",
       "std        0.241490      0.144638      0.171230      0.140620      0.246555   \n",
       "min        0.000000      0.000000      0.000000      0.000000      0.000000   \n",
       "25%        0.000000      0.000000      0.000000      0.000000      0.000000   \n",
       "50%        0.000000      0.000000      0.000000      0.000000      0.000000   \n",
       "75%        0.000000      0.028477      0.000000      0.000000      0.000000   \n",
       "max        1.000000      1.000000      1.000000      1.000000      1.000000   \n",
       "\n",
       "           headache  loss_of_smell  loss_of_taste    runny_nose   muscle_sore  \\\n",
       "count  93995.000000   93995.000000   93995.000000  93995.000000  93995.000000   \n",
       "mean       0.057786       0.007068       0.007206      0.036873      0.036136   \n",
       "std        0.233112       0.083689       0.084499      0.188264      0.186448   \n",
       "min        0.000000       0.000000       0.000000      0.000000      0.000000   \n",
       "25%        0.000000       0.000000       0.000000      0.000000      0.000000   \n",
       "50%        0.000000       0.000000       0.000000      0.000000      0.000000   \n",
       "75%        0.000000       0.000000       0.000000      0.000000      0.000000   \n",
       "max        1.000000       1.000000       1.000000      1.000000      1.000000   \n",
       "\n",
       "        sore_throat       wheezes            id  \n",
       "count  93995.000000  93995.000000  93995.000000  \n",
       "mean       0.062977      0.346879  46997.000000  \n",
       "std        0.242686      0.257399  27134.163613  \n",
       "min        0.000000      0.000000      0.000000  \n",
       "25%        0.000000      0.346879  23498.500000  \n",
       "50%        0.000000      0.346879  46997.000000  \n",
       "75%        0.000000      0.346879  70495.500000  \n",
       "max        1.000000      1.000000  93994.000000  "
      ]
     },
     "execution_count": 55,
     "metadata": {},
     "output_type": "execute_result"
    }
   ],
   "source": [
    "df_symptoms.describe()"
   ]
  },
  {
   "cell_type": "code",
   "execution_count": 7,
   "metadata": {},
   "outputs": [
    {
     "data": {
      "text/html": [
       "<div>\n",
       "<style scoped>\n",
       "    .dataframe tbody tr th:only-of-type {\n",
       "        vertical-align: middle;\n",
       "    }\n",
       "\n",
       "    .dataframe tbody tr th {\n",
       "        vertical-align: top;\n",
       "    }\n",
       "\n",
       "    .dataframe thead th {\n",
       "        text-align: right;\n",
       "    }\n",
       "</style>\n",
       "<table border=\"1\" class=\"dataframe\">\n",
       "  <thead>\n",
       "    <tr style=\"text-align: right;\">\n",
       "      <th></th>\n",
       "      <th>R</th>\n",
       "      <th>temperature</th>\n",
       "      <th>high_risk_exposure_occupation</th>\n",
       "      <th>high_risk_interactions</th>\n",
       "      <th>labored_respiration</th>\n",
       "      <th>rhonchi</th>\n",
       "      <th>cough</th>\n",
       "      <th>fever</th>\n",
       "      <th>sob</th>\n",
       "      <th>diarrhea</th>\n",
       "      <th>fatigue</th>\n",
       "      <th>headache</th>\n",
       "      <th>loss_of_smell</th>\n",
       "      <th>loss_of_taste</th>\n",
       "      <th>runny_nose</th>\n",
       "      <th>muscle_sore</th>\n",
       "      <th>sore_throat</th>\n",
       "      <th>wheezes</th>\n",
       "    </tr>\n",
       "  </thead>\n",
       "  <tbody>\n",
       "    <tr>\n",
       "      <th>count</th>\n",
       "      <td>93995.000000</td>\n",
       "      <td>93995.000000</td>\n",
       "      <td>93995.000000</td>\n",
       "      <td>93995.000000</td>\n",
       "      <td>93995.000000</td>\n",
       "      <td>93995.000000</td>\n",
       "      <td>93995.000000</td>\n",
       "      <td>93995.000000</td>\n",
       "      <td>93995.000000</td>\n",
       "      <td>93995.000000</td>\n",
       "      <td>93995.000000</td>\n",
       "      <td>93995.000000</td>\n",
       "      <td>93995.000000</td>\n",
       "      <td>93995.000000</td>\n",
       "      <td>93995.000000</td>\n",
       "      <td>93995.000000</td>\n",
       "      <td>93995.000000</td>\n",
       "      <td>93995.000000</td>\n",
       "    </tr>\n",
       "    <tr>\n",
       "      <th>mean</th>\n",
       "      <td>0.013969</td>\n",
       "      <td>36.794765</td>\n",
       "      <td>0.073903</td>\n",
       "      <td>0.205514</td>\n",
       "      <td>0.007959</td>\n",
       "      <td>0.303590</td>\n",
       "      <td>0.062194</td>\n",
       "      <td>0.028477</td>\n",
       "      <td>0.030302</td>\n",
       "      <td>0.020222</td>\n",
       "      <td>0.065147</td>\n",
       "      <td>0.057786</td>\n",
       "      <td>0.007068</td>\n",
       "      <td>0.007206</td>\n",
       "      <td>0.036873</td>\n",
       "      <td>0.036136</td>\n",
       "      <td>0.062977</td>\n",
       "      <td>0.346879</td>\n",
       "    </tr>\n",
       "    <tr>\n",
       "      <th>std</th>\n",
       "      <td>0.117362</td>\n",
       "      <td>0.205696</td>\n",
       "      <td>0.261379</td>\n",
       "      <td>0.346630</td>\n",
       "      <td>0.063993</td>\n",
       "      <td>0.229147</td>\n",
       "      <td>0.241490</td>\n",
       "      <td>0.144638</td>\n",
       "      <td>0.171230</td>\n",
       "      <td>0.140620</td>\n",
       "      <td>0.246555</td>\n",
       "      <td>0.233112</td>\n",
       "      <td>0.083689</td>\n",
       "      <td>0.084499</td>\n",
       "      <td>0.188264</td>\n",
       "      <td>0.186448</td>\n",
       "      <td>0.242686</td>\n",
       "      <td>0.257399</td>\n",
       "    </tr>\n",
       "    <tr>\n",
       "      <th>min</th>\n",
       "      <td>0.000000</td>\n",
       "      <td>33.500000</td>\n",
       "      <td>0.000000</td>\n",
       "      <td>0.000000</td>\n",
       "      <td>0.000000</td>\n",
       "      <td>0.000000</td>\n",
       "      <td>0.000000</td>\n",
       "      <td>0.000000</td>\n",
       "      <td>0.000000</td>\n",
       "      <td>0.000000</td>\n",
       "      <td>0.000000</td>\n",
       "      <td>0.000000</td>\n",
       "      <td>0.000000</td>\n",
       "      <td>0.000000</td>\n",
       "      <td>0.000000</td>\n",
       "      <td>0.000000</td>\n",
       "      <td>0.000000</td>\n",
       "      <td>0.000000</td>\n",
       "    </tr>\n",
       "    <tr>\n",
       "      <th>25%</th>\n",
       "      <td>0.000000</td>\n",
       "      <td>36.794765</td>\n",
       "      <td>0.000000</td>\n",
       "      <td>0.000000</td>\n",
       "      <td>0.000000</td>\n",
       "      <td>0.303590</td>\n",
       "      <td>0.000000</td>\n",
       "      <td>0.000000</td>\n",
       "      <td>0.000000</td>\n",
       "      <td>0.000000</td>\n",
       "      <td>0.000000</td>\n",
       "      <td>0.000000</td>\n",
       "      <td>0.000000</td>\n",
       "      <td>0.000000</td>\n",
       "      <td>0.000000</td>\n",
       "      <td>0.000000</td>\n",
       "      <td>0.000000</td>\n",
       "      <td>0.346879</td>\n",
       "    </tr>\n",
       "    <tr>\n",
       "      <th>50%</th>\n",
       "      <td>0.000000</td>\n",
       "      <td>36.794765</td>\n",
       "      <td>0.000000</td>\n",
       "      <td>0.000000</td>\n",
       "      <td>0.000000</td>\n",
       "      <td>0.303590</td>\n",
       "      <td>0.000000</td>\n",
       "      <td>0.000000</td>\n",
       "      <td>0.000000</td>\n",
       "      <td>0.000000</td>\n",
       "      <td>0.000000</td>\n",
       "      <td>0.000000</td>\n",
       "      <td>0.000000</td>\n",
       "      <td>0.000000</td>\n",
       "      <td>0.000000</td>\n",
       "      <td>0.000000</td>\n",
       "      <td>0.000000</td>\n",
       "      <td>0.346879</td>\n",
       "    </tr>\n",
       "    <tr>\n",
       "      <th>75%</th>\n",
       "      <td>0.000000</td>\n",
       "      <td>36.800000</td>\n",
       "      <td>0.000000</td>\n",
       "      <td>0.205514</td>\n",
       "      <td>0.007959</td>\n",
       "      <td>0.303590</td>\n",
       "      <td>0.000000</td>\n",
       "      <td>0.028477</td>\n",
       "      <td>0.000000</td>\n",
       "      <td>0.000000</td>\n",
       "      <td>0.000000</td>\n",
       "      <td>0.000000</td>\n",
       "      <td>0.000000</td>\n",
       "      <td>0.000000</td>\n",
       "      <td>0.000000</td>\n",
       "      <td>0.000000</td>\n",
       "      <td>0.000000</td>\n",
       "      <td>0.346879</td>\n",
       "    </tr>\n",
       "    <tr>\n",
       "      <th>max</th>\n",
       "      <td>1.000000</td>\n",
       "      <td>39.600000</td>\n",
       "      <td>1.000000</td>\n",
       "      <td>1.000000</td>\n",
       "      <td>1.000000</td>\n",
       "      <td>1.000000</td>\n",
       "      <td>1.000000</td>\n",
       "      <td>1.000000</td>\n",
       "      <td>1.000000</td>\n",
       "      <td>1.000000</td>\n",
       "      <td>1.000000</td>\n",
       "      <td>1.000000</td>\n",
       "      <td>1.000000</td>\n",
       "      <td>1.000000</td>\n",
       "      <td>1.000000</td>\n",
       "      <td>1.000000</td>\n",
       "      <td>1.000000</td>\n",
       "      <td>1.000000</td>\n",
       "    </tr>\n",
       "  </tbody>\n",
       "</table>\n",
       "</div>"
      ],
      "text/plain": [
       "                  R   temperature  high_risk_exposure_occupation  \\\n",
       "count  93995.000000  93995.000000                   93995.000000   \n",
       "mean       0.013969     36.794765                       0.073903   \n",
       "std        0.117362      0.205696                       0.261379   \n",
       "min        0.000000     33.500000                       0.000000   \n",
       "25%        0.000000     36.794765                       0.000000   \n",
       "50%        0.000000     36.794765                       0.000000   \n",
       "75%        0.000000     36.800000                       0.000000   \n",
       "max        1.000000     39.600000                       1.000000   \n",
       "\n",
       "       high_risk_interactions  labored_respiration       rhonchi  \\\n",
       "count            93995.000000         93995.000000  93995.000000   \n",
       "mean                 0.205514             0.007959      0.303590   \n",
       "std                  0.346630             0.063993      0.229147   \n",
       "min                  0.000000             0.000000      0.000000   \n",
       "25%                  0.000000             0.000000      0.303590   \n",
       "50%                  0.000000             0.000000      0.303590   \n",
       "75%                  0.205514             0.007959      0.303590   \n",
       "max                  1.000000             1.000000      1.000000   \n",
       "\n",
       "              cough         fever           sob      diarrhea       fatigue  \\\n",
       "count  93995.000000  93995.000000  93995.000000  93995.000000  93995.000000   \n",
       "mean       0.062194      0.028477      0.030302      0.020222      0.065147   \n",
       "std        0.241490      0.144638      0.171230      0.140620      0.246555   \n",
       "min        0.000000      0.000000      0.000000      0.000000      0.000000   \n",
       "25%        0.000000      0.000000      0.000000      0.000000      0.000000   \n",
       "50%        0.000000      0.000000      0.000000      0.000000      0.000000   \n",
       "75%        0.000000      0.028477      0.000000      0.000000      0.000000   \n",
       "max        1.000000      1.000000      1.000000      1.000000      1.000000   \n",
       "\n",
       "           headache  loss_of_smell  loss_of_taste    runny_nose   muscle_sore  \\\n",
       "count  93995.000000   93995.000000   93995.000000  93995.000000  93995.000000   \n",
       "mean       0.057786       0.007068       0.007206      0.036873      0.036136   \n",
       "std        0.233112       0.083689       0.084499      0.188264      0.186448   \n",
       "min        0.000000       0.000000       0.000000      0.000000      0.000000   \n",
       "25%        0.000000       0.000000       0.000000      0.000000      0.000000   \n",
       "50%        0.000000       0.000000       0.000000      0.000000      0.000000   \n",
       "75%        0.000000       0.000000       0.000000      0.000000      0.000000   \n",
       "max        1.000000       1.000000       1.000000      1.000000      1.000000   \n",
       "\n",
       "        sore_throat       wheezes  \n",
       "count  93995.000000  93995.000000  \n",
       "mean       0.062977      0.346879  \n",
       "std        0.242686      0.257399  \n",
       "min        0.000000      0.000000  \n",
       "25%        0.000000      0.346879  \n",
       "50%        0.000000      0.346879  \n",
       "75%        0.000000      0.346879  \n",
       "max        1.000000      1.000000  "
      ]
     },
     "execution_count": 7,
     "metadata": {},
     "output_type": "execute_result"
    }
   ],
   "source": [
    "df_symptoms.describe()"
   ]
  },
  {
   "cell_type": "code",
   "execution_count": 8,
   "metadata": {},
   "outputs": [],
   "source": [
    "from sklearn.pipeline import Pipeline\n",
    "from sklearn.preprocessing import StandardScaler\n",
    "from sklearn.feature_extraction.text import CountVectorizer\n",
    "from sklearn.ensemble import RandomForestClassifier\n",
    "from sklearn.model_selection import cross_val_score\n",
    "from sklearn.metrics import precision_recall_fscore_support as score"
   ]
  },
  {
   "cell_type": "code",
   "execution_count": 9,
   "metadata": {},
   "outputs": [],
   "source": [
    "#df_symptoms.dropna(inplace=True) # leaves 1946"
   ]
  },
  {
   "cell_type": "code",
   "execution_count": 10,
   "metadata": {},
   "outputs": [],
   "source": [
    "# normalize the temperaature\n",
    "#df_symptoms['temperature'] = (df_symptoms['temperature'] - df_symptoms['temperature'].min()) / (df_symptoms['temperature'].max() - df_symptoms['temperature'].min())"
   ]
  },
  {
   "cell_type": "code",
   "execution_count": 11,
   "metadata": {},
   "outputs": [
    {
     "data": {
      "text/html": [
       "<div>\n",
       "<style scoped>\n",
       "    .dataframe tbody tr th:only-of-type {\n",
       "        vertical-align: middle;\n",
       "    }\n",
       "\n",
       "    .dataframe tbody tr th {\n",
       "        vertical-align: top;\n",
       "    }\n",
       "\n",
       "    .dataframe thead th {\n",
       "        text-align: right;\n",
       "    }\n",
       "</style>\n",
       "<table border=\"1\" class=\"dataframe\">\n",
       "  <thead>\n",
       "    <tr style=\"text-align: right;\">\n",
       "      <th></th>\n",
       "      <th>R</th>\n",
       "      <th>temperature</th>\n",
       "      <th>high_risk_exposure_occupation</th>\n",
       "      <th>high_risk_interactions</th>\n",
       "      <th>labored_respiration</th>\n",
       "      <th>rhonchi</th>\n",
       "      <th>cough</th>\n",
       "      <th>fever</th>\n",
       "      <th>sob</th>\n",
       "      <th>diarrhea</th>\n",
       "      <th>fatigue</th>\n",
       "      <th>headache</th>\n",
       "      <th>loss_of_smell</th>\n",
       "      <th>loss_of_taste</th>\n",
       "      <th>runny_nose</th>\n",
       "      <th>muscle_sore</th>\n",
       "      <th>sore_throat</th>\n",
       "      <th>wheezes</th>\n",
       "    </tr>\n",
       "  </thead>\n",
       "  <tbody>\n",
       "    <tr>\n",
       "      <th>0</th>\n",
       "      <td>0</td>\n",
       "      <td>36.95</td>\n",
       "      <td>1.000000</td>\n",
       "      <td>0.205514</td>\n",
       "      <td>0.000000</td>\n",
       "      <td>0.00000</td>\n",
       "      <td>1.0</td>\n",
       "      <td>0.028477</td>\n",
       "      <td>0.000000</td>\n",
       "      <td>0.000000</td>\n",
       "      <td>0.000000</td>\n",
       "      <td>0.000000</td>\n",
       "      <td>0.000000</td>\n",
       "      <td>0.000000</td>\n",
       "      <td>0.000000</td>\n",
       "      <td>0.000000</td>\n",
       "      <td>0.000000</td>\n",
       "      <td>0.000000</td>\n",
       "    </tr>\n",
       "    <tr>\n",
       "      <th>1</th>\n",
       "      <td>0</td>\n",
       "      <td>36.75</td>\n",
       "      <td>0.000000</td>\n",
       "      <td>0.205514</td>\n",
       "      <td>0.000000</td>\n",
       "      <td>0.00000</td>\n",
       "      <td>1.0</td>\n",
       "      <td>0.000000</td>\n",
       "      <td>0.000000</td>\n",
       "      <td>0.000000</td>\n",
       "      <td>0.000000</td>\n",
       "      <td>0.000000</td>\n",
       "      <td>0.000000</td>\n",
       "      <td>0.000000</td>\n",
       "      <td>0.000000</td>\n",
       "      <td>0.000000</td>\n",
       "      <td>0.000000</td>\n",
       "      <td>0.000000</td>\n",
       "    </tr>\n",
       "    <tr>\n",
       "      <th>2</th>\n",
       "      <td>0</td>\n",
       "      <td>36.95</td>\n",
       "      <td>0.073903</td>\n",
       "      <td>0.205514</td>\n",
       "      <td>0.007959</td>\n",
       "      <td>0.30359</td>\n",
       "      <td>0.0</td>\n",
       "      <td>0.028477</td>\n",
       "      <td>0.030302</td>\n",
       "      <td>0.020222</td>\n",
       "      <td>0.065147</td>\n",
       "      <td>0.057786</td>\n",
       "      <td>0.007068</td>\n",
       "      <td>0.007206</td>\n",
       "      <td>0.036873</td>\n",
       "      <td>0.036136</td>\n",
       "      <td>0.062977</td>\n",
       "      <td>0.346879</td>\n",
       "    </tr>\n",
       "    <tr>\n",
       "      <th>3</th>\n",
       "      <td>0</td>\n",
       "      <td>36.75</td>\n",
       "      <td>1.000000</td>\n",
       "      <td>1.000000</td>\n",
       "      <td>0.000000</td>\n",
       "      <td>0.30359</td>\n",
       "      <td>1.0</td>\n",
       "      <td>0.000000</td>\n",
       "      <td>1.000000</td>\n",
       "      <td>0.000000</td>\n",
       "      <td>1.000000</td>\n",
       "      <td>0.000000</td>\n",
       "      <td>0.000000</td>\n",
       "      <td>0.000000</td>\n",
       "      <td>0.000000</td>\n",
       "      <td>0.000000</td>\n",
       "      <td>1.000000</td>\n",
       "      <td>0.346879</td>\n",
       "    </tr>\n",
       "    <tr>\n",
       "      <th>4</th>\n",
       "      <td>0</td>\n",
       "      <td>36.25</td>\n",
       "      <td>0.000000</td>\n",
       "      <td>0.205514</td>\n",
       "      <td>0.000000</td>\n",
       "      <td>0.00000</td>\n",
       "      <td>1.0</td>\n",
       "      <td>1.000000</td>\n",
       "      <td>0.000000</td>\n",
       "      <td>0.000000</td>\n",
       "      <td>0.000000</td>\n",
       "      <td>0.000000</td>\n",
       "      <td>0.000000</td>\n",
       "      <td>0.000000</td>\n",
       "      <td>0.000000</td>\n",
       "      <td>0.000000</td>\n",
       "      <td>0.000000</td>\n",
       "      <td>0.000000</td>\n",
       "    </tr>\n",
       "  </tbody>\n",
       "</table>\n",
       "</div>"
      ],
      "text/plain": [
       "   R  temperature  high_risk_exposure_occupation  high_risk_interactions  \\\n",
       "0  0        36.95                       1.000000                0.205514   \n",
       "1  0        36.75                       0.000000                0.205514   \n",
       "2  0        36.95                       0.073903                0.205514   \n",
       "3  0        36.75                       1.000000                1.000000   \n",
       "4  0        36.25                       0.000000                0.205514   \n",
       "\n",
       "   labored_respiration  rhonchi  cough     fever       sob  diarrhea  \\\n",
       "0             0.000000  0.00000    1.0  0.028477  0.000000  0.000000   \n",
       "1             0.000000  0.00000    1.0  0.000000  0.000000  0.000000   \n",
       "2             0.007959  0.30359    0.0  0.028477  0.030302  0.020222   \n",
       "3             0.000000  0.30359    1.0  0.000000  1.000000  0.000000   \n",
       "4             0.000000  0.00000    1.0  1.000000  0.000000  0.000000   \n",
       "\n",
       "    fatigue  headache  loss_of_smell  loss_of_taste  runny_nose  muscle_sore  \\\n",
       "0  0.000000  0.000000       0.000000       0.000000    0.000000     0.000000   \n",
       "1  0.000000  0.000000       0.000000       0.000000    0.000000     0.000000   \n",
       "2  0.065147  0.057786       0.007068       0.007206    0.036873     0.036136   \n",
       "3  1.000000  0.000000       0.000000       0.000000    0.000000     0.000000   \n",
       "4  0.000000  0.000000       0.000000       0.000000    0.000000     0.000000   \n",
       "\n",
       "   sore_throat   wheezes  \n",
       "0     0.000000  0.000000  \n",
       "1     0.000000  0.000000  \n",
       "2     0.062977  0.346879  \n",
       "3     1.000000  0.346879  \n",
       "4     0.000000  0.000000  "
      ]
     },
     "execution_count": 11,
     "metadata": {},
     "output_type": "execute_result"
    }
   ],
   "source": [
    "df_symptoms.head(5)"
   ]
  },
  {
   "cell_type": "code",
   "execution_count": 12,
   "metadata": {},
   "outputs": [],
   "source": [
    "#df_symptoms[df_symptoms['R'] == 1]\n",
    "df_symptoms[\"id\"] = df_symptoms.index"
   ]
  },
  {
   "cell_type": "code",
   "execution_count": 13,
   "metadata": {},
   "outputs": [
    {
     "data": {
      "text/html": [
       "<div>\n",
       "<style scoped>\n",
       "    .dataframe tbody tr th:only-of-type {\n",
       "        vertical-align: middle;\n",
       "    }\n",
       "\n",
       "    .dataframe tbody tr th {\n",
       "        vertical-align: top;\n",
       "    }\n",
       "\n",
       "    .dataframe thead th {\n",
       "        text-align: right;\n",
       "    }\n",
       "</style>\n",
       "<table border=\"1\" class=\"dataframe\">\n",
       "  <thead>\n",
       "    <tr style=\"text-align: right;\">\n",
       "      <th></th>\n",
       "      <th>high_risk_exposure_occupation</th>\n",
       "      <th>high_risk_interactions</th>\n",
       "      <th>labored_respiration</th>\n",
       "      <th>rhonchi</th>\n",
       "      <th>cough</th>\n",
       "      <th>fever</th>\n",
       "      <th>sob</th>\n",
       "      <th>diarrhea</th>\n",
       "      <th>fatigue</th>\n",
       "      <th>headache</th>\n",
       "      <th>loss_of_smell</th>\n",
       "      <th>loss_of_taste</th>\n",
       "      <th>runny_nose</th>\n",
       "      <th>muscle_sore</th>\n",
       "      <th>sore_throat</th>\n",
       "      <th>wheezes</th>\n",
       "    </tr>\n",
       "  </thead>\n",
       "  <tbody>\n",
       "    <tr>\n",
       "      <th>0</th>\n",
       "      <td>1.000000</td>\n",
       "      <td>0.205514</td>\n",
       "      <td>0.000000</td>\n",
       "      <td>0.00000</td>\n",
       "      <td>1.0</td>\n",
       "      <td>0.028477</td>\n",
       "      <td>0.000000</td>\n",
       "      <td>0.000000</td>\n",
       "      <td>0.000000</td>\n",
       "      <td>0.000000</td>\n",
       "      <td>0.000000</td>\n",
       "      <td>0.000000</td>\n",
       "      <td>0.000000</td>\n",
       "      <td>0.000000</td>\n",
       "      <td>0.000000</td>\n",
       "      <td>0.000000</td>\n",
       "    </tr>\n",
       "    <tr>\n",
       "      <th>1</th>\n",
       "      <td>0.000000</td>\n",
       "      <td>0.205514</td>\n",
       "      <td>0.000000</td>\n",
       "      <td>0.00000</td>\n",
       "      <td>1.0</td>\n",
       "      <td>0.000000</td>\n",
       "      <td>0.000000</td>\n",
       "      <td>0.000000</td>\n",
       "      <td>0.000000</td>\n",
       "      <td>0.000000</td>\n",
       "      <td>0.000000</td>\n",
       "      <td>0.000000</td>\n",
       "      <td>0.000000</td>\n",
       "      <td>0.000000</td>\n",
       "      <td>0.000000</td>\n",
       "      <td>0.000000</td>\n",
       "    </tr>\n",
       "    <tr>\n",
       "      <th>2</th>\n",
       "      <td>0.073903</td>\n",
       "      <td>0.205514</td>\n",
       "      <td>0.007959</td>\n",
       "      <td>0.30359</td>\n",
       "      <td>0.0</td>\n",
       "      <td>0.028477</td>\n",
       "      <td>0.030302</td>\n",
       "      <td>0.020222</td>\n",
       "      <td>0.065147</td>\n",
       "      <td>0.057786</td>\n",
       "      <td>0.007068</td>\n",
       "      <td>0.007206</td>\n",
       "      <td>0.036873</td>\n",
       "      <td>0.036136</td>\n",
       "      <td>0.062977</td>\n",
       "      <td>0.346879</td>\n",
       "    </tr>\n",
       "    <tr>\n",
       "      <th>3</th>\n",
       "      <td>1.000000</td>\n",
       "      <td>1.000000</td>\n",
       "      <td>0.000000</td>\n",
       "      <td>0.30359</td>\n",
       "      <td>1.0</td>\n",
       "      <td>0.000000</td>\n",
       "      <td>1.000000</td>\n",
       "      <td>0.000000</td>\n",
       "      <td>1.000000</td>\n",
       "      <td>0.000000</td>\n",
       "      <td>0.000000</td>\n",
       "      <td>0.000000</td>\n",
       "      <td>0.000000</td>\n",
       "      <td>0.000000</td>\n",
       "      <td>1.000000</td>\n",
       "      <td>0.346879</td>\n",
       "    </tr>\n",
       "    <tr>\n",
       "      <th>4</th>\n",
       "      <td>0.000000</td>\n",
       "      <td>0.205514</td>\n",
       "      <td>0.000000</td>\n",
       "      <td>0.00000</td>\n",
       "      <td>1.0</td>\n",
       "      <td>1.000000</td>\n",
       "      <td>0.000000</td>\n",
       "      <td>0.000000</td>\n",
       "      <td>0.000000</td>\n",
       "      <td>0.000000</td>\n",
       "      <td>0.000000</td>\n",
       "      <td>0.000000</td>\n",
       "      <td>0.000000</td>\n",
       "      <td>0.000000</td>\n",
       "      <td>0.000000</td>\n",
       "      <td>0.000000</td>\n",
       "    </tr>\n",
       "  </tbody>\n",
       "</table>\n",
       "</div>"
      ],
      "text/plain": [
       "   high_risk_exposure_occupation  high_risk_interactions  labored_respiration  \\\n",
       "0                       1.000000                0.205514             0.000000   \n",
       "1                       0.000000                0.205514             0.000000   \n",
       "2                       0.073903                0.205514             0.007959   \n",
       "3                       1.000000                1.000000             0.000000   \n",
       "4                       0.000000                0.205514             0.000000   \n",
       "\n",
       "   rhonchi  cough     fever       sob  diarrhea   fatigue  headache  \\\n",
       "0  0.00000    1.0  0.028477  0.000000  0.000000  0.000000  0.000000   \n",
       "1  0.00000    1.0  0.000000  0.000000  0.000000  0.000000  0.000000   \n",
       "2  0.30359    0.0  0.028477  0.030302  0.020222  0.065147  0.057786   \n",
       "3  0.30359    1.0  0.000000  1.000000  0.000000  1.000000  0.000000   \n",
       "4  0.00000    1.0  1.000000  0.000000  0.000000  0.000000  0.000000   \n",
       "\n",
       "   loss_of_smell  loss_of_taste  runny_nose  muscle_sore  sore_throat  \\\n",
       "0       0.000000       0.000000    0.000000     0.000000     0.000000   \n",
       "1       0.000000       0.000000    0.000000     0.000000     0.000000   \n",
       "2       0.007068       0.007206    0.036873     0.036136     0.062977   \n",
       "3       0.000000       0.000000    0.000000     0.000000     1.000000   \n",
       "4       0.000000       0.000000    0.000000     0.000000     0.000000   \n",
       "\n",
       "    wheezes  \n",
       "0  0.000000  \n",
       "1  0.000000  \n",
       "2  0.346879  \n",
       "3  0.346879  \n",
       "4  0.000000  "
      ]
     },
     "execution_count": 13,
     "metadata": {},
     "output_type": "execute_result"
    }
   ],
   "source": [
    "df_symptoms.iloc[:,2:-1].head()"
   ]
  },
  {
   "cell_type": "code",
   "execution_count": 14,
   "metadata": {},
   "outputs": [
    {
     "data": {
      "text/plain": [
       "93995"
      ]
     },
     "execution_count": 14,
     "metadata": {},
     "output_type": "execute_result"
    }
   ],
   "source": [
    "len(df_symptoms)"
   ]
  },
  {
   "cell_type": "code",
   "execution_count": 15,
   "metadata": {},
   "outputs": [],
   "source": [
    "#df_symptoms.head()"
   ]
  },
  {
   "cell_type": "code",
   "execution_count": 16,
   "metadata": {},
   "outputs": [],
   "source": [
    "symptom_clf = Pipeline([\n",
    "    ('scaler', StandardScaler()),\n",
    "    ('clf', RandomForestClassifier())\n",
    "    ])"
   ]
  },
  {
   "cell_type": "code",
   "execution_count": 17,
   "metadata": {},
   "outputs": [
    {
     "data": {
      "text/plain": [
       "Pipeline(steps=[('scaler', StandardScaler()),\n",
       "                ('clf', RandomForestClassifier())])"
      ]
     },
     "execution_count": 17,
     "metadata": {},
     "output_type": "execute_result"
    }
   ],
   "source": [
    "# don't include the ID as a feature\n",
    "symptom_clf.fit(df_symptoms.iloc[:,2:-1], df_symptoms['R'])"
   ]
  },
  {
   "cell_type": "code",
   "execution_count": 18,
   "metadata": {},
   "outputs": [
    {
     "data": {
      "text/plain": [
       "array([0.26137728, 0.34662841, 0.06399237, 0.22914554, 0.24148845,\n",
       "       0.14463698, 0.17122923, 0.14061935, 0.24655342, 0.23311067,\n",
       "       0.08368819, 0.08449878, 0.18826286, 0.18644701, 0.24268503,\n",
       "       0.25739785])"
      ]
     },
     "execution_count": 18,
     "metadata": {},
     "output_type": "execute_result"
    }
   ],
   "source": [
    "symptom_clf['scaler'].scale_"
   ]
  },
  {
   "cell_type": "code",
   "execution_count": 19,
   "metadata": {},
   "outputs": [
    {
     "data": {
      "text/plain": [
       "array([0.06369386, 0.10777984, 0.04507163, 0.05601844, 0.05682146,\n",
       "       0.08790324, 0.0542134 , 0.04606716, 0.06472785, 0.06005754,\n",
       "       0.07161652, 0.05154851, 0.05600384, 0.04974493, 0.07010412,\n",
       "       0.05862766])"
      ]
     },
     "execution_count": 19,
     "metadata": {},
     "output_type": "execute_result"
    }
   ],
   "source": [
    "symptom_clf['clf'].feature_importances_"
   ]
  },
  {
   "cell_type": "code",
   "execution_count": 20,
   "metadata": {},
   "outputs": [],
   "source": [
    "feature_df = pd.DataFrame({'feature':df_symptoms.columns[2:-1], \n",
    "                           'importance': symptom_clf['clf'].feature_importances_})"
   ]
  },
  {
   "cell_type": "code",
   "execution_count": 21,
   "metadata": {},
   "outputs": [
    {
     "data": {
      "text/html": [
       "<div>\n",
       "<style scoped>\n",
       "    .dataframe tbody tr th:only-of-type {\n",
       "        vertical-align: middle;\n",
       "    }\n",
       "\n",
       "    .dataframe tbody tr th {\n",
       "        vertical-align: top;\n",
       "    }\n",
       "\n",
       "    .dataframe thead th {\n",
       "        text-align: right;\n",
       "    }\n",
       "</style>\n",
       "<table border=\"1\" class=\"dataframe\">\n",
       "  <thead>\n",
       "    <tr style=\"text-align: right;\">\n",
       "      <th></th>\n",
       "      <th>feature</th>\n",
       "      <th>importance</th>\n",
       "    </tr>\n",
       "  </thead>\n",
       "  <tbody>\n",
       "    <tr>\n",
       "      <th>0</th>\n",
       "      <td>high_risk_interactions</td>\n",
       "      <td>0.107780</td>\n",
       "    </tr>\n",
       "    <tr>\n",
       "      <th>1</th>\n",
       "      <td>fever</td>\n",
       "      <td>0.087903</td>\n",
       "    </tr>\n",
       "    <tr>\n",
       "      <th>2</th>\n",
       "      <td>loss_of_smell</td>\n",
       "      <td>0.071617</td>\n",
       "    </tr>\n",
       "    <tr>\n",
       "      <th>3</th>\n",
       "      <td>sore_throat</td>\n",
       "      <td>0.070104</td>\n",
       "    </tr>\n",
       "    <tr>\n",
       "      <th>4</th>\n",
       "      <td>fatigue</td>\n",
       "      <td>0.064728</td>\n",
       "    </tr>\n",
       "    <tr>\n",
       "      <th>5</th>\n",
       "      <td>high_risk_exposure_occupation</td>\n",
       "      <td>0.063694</td>\n",
       "    </tr>\n",
       "    <tr>\n",
       "      <th>6</th>\n",
       "      <td>headache</td>\n",
       "      <td>0.060058</td>\n",
       "    </tr>\n",
       "    <tr>\n",
       "      <th>7</th>\n",
       "      <td>wheezes</td>\n",
       "      <td>0.058628</td>\n",
       "    </tr>\n",
       "    <tr>\n",
       "      <th>8</th>\n",
       "      <td>cough</td>\n",
       "      <td>0.056821</td>\n",
       "    </tr>\n",
       "    <tr>\n",
       "      <th>9</th>\n",
       "      <td>rhonchi</td>\n",
       "      <td>0.056018</td>\n",
       "    </tr>\n",
       "    <tr>\n",
       "      <th>10</th>\n",
       "      <td>runny_nose</td>\n",
       "      <td>0.056004</td>\n",
       "    </tr>\n",
       "    <tr>\n",
       "      <th>11</th>\n",
       "      <td>sob</td>\n",
       "      <td>0.054213</td>\n",
       "    </tr>\n",
       "    <tr>\n",
       "      <th>12</th>\n",
       "      <td>loss_of_taste</td>\n",
       "      <td>0.051549</td>\n",
       "    </tr>\n",
       "    <tr>\n",
       "      <th>13</th>\n",
       "      <td>muscle_sore</td>\n",
       "      <td>0.049745</td>\n",
       "    </tr>\n",
       "    <tr>\n",
       "      <th>14</th>\n",
       "      <td>diarrhea</td>\n",
       "      <td>0.046067</td>\n",
       "    </tr>\n",
       "    <tr>\n",
       "      <th>15</th>\n",
       "      <td>labored_respiration</td>\n",
       "      <td>0.045072</td>\n",
       "    </tr>\n",
       "  </tbody>\n",
       "</table>\n",
       "</div>"
      ],
      "text/plain": [
       "                          feature  importance\n",
       "0          high_risk_interactions    0.107780\n",
       "1                           fever    0.087903\n",
       "2                   loss_of_smell    0.071617\n",
       "3                     sore_throat    0.070104\n",
       "4                         fatigue    0.064728\n",
       "5   high_risk_exposure_occupation    0.063694\n",
       "6                        headache    0.060058\n",
       "7                         wheezes    0.058628\n",
       "8                           cough    0.056821\n",
       "9                         rhonchi    0.056018\n",
       "10                     runny_nose    0.056004\n",
       "11                            sob    0.054213\n",
       "12                  loss_of_taste    0.051549\n",
       "13                    muscle_sore    0.049745\n",
       "14                       diarrhea    0.046067\n",
       "15            labored_respiration    0.045072"
      ]
     },
     "execution_count": 21,
     "metadata": {},
     "output_type": "execute_result"
    }
   ],
   "source": [
    "pysqldf(\"SELECT * FROM feature_df ORDER BY importance DESC\")"
   ]
  },
  {
   "cell_type": "code",
   "execution_count": 22,
   "metadata": {},
   "outputs": [],
   "source": [
    "symptom_scores = cross_val_score(symptom_clf, df_symptoms.iloc[:,2:], df_symptoms['R'], cv=5)"
   ]
  },
  {
   "cell_type": "code",
   "execution_count": 23,
   "metadata": {},
   "outputs": [
    {
     "name": "stdout",
     "output_type": "stream",
     "text": [
      "Accuracy: 0.32, StDev: 0.35)\n"
     ]
    }
   ],
   "source": [
    "print(\"Accuracy: %0.2f, StDev: %0.2f)\" % (symptom_scores.mean(), symptom_scores.std()))"
   ]
  },
  {
   "cell_type": "code",
   "execution_count": 24,
   "metadata": {},
   "outputs": [],
   "source": [
    "test_predicted_proba = symptom_clf.predict_proba(df_symptoms.iloc[:, 2:-1])"
   ]
  },
  {
   "cell_type": "code",
   "execution_count": 25,
   "metadata": {},
   "outputs": [],
   "source": [
    "test_predicted = symptom_clf.predict(df_symptoms.iloc[:, 2:-1])"
   ]
  },
  {
   "cell_type": "code",
   "execution_count": 26,
   "metadata": {},
   "outputs": [],
   "source": [
    "df_pred = pd.DataFrame({\"p_cat\":test_predicted, \"p_prob\":[item[1] for item in test_predicted_proba], \"p_id\":df_symptoms.id })"
   ]
  },
  {
   "cell_type": "code",
   "execution_count": 27,
   "metadata": {},
   "outputs": [
    {
     "data": {
      "text/html": [
       "<div>\n",
       "<style scoped>\n",
       "    .dataframe tbody tr th:only-of-type {\n",
       "        vertical-align: middle;\n",
       "    }\n",
       "\n",
       "    .dataframe tbody tr th {\n",
       "        vertical-align: top;\n",
       "    }\n",
       "\n",
       "    .dataframe thead th {\n",
       "        text-align: right;\n",
       "    }\n",
       "</style>\n",
       "<table border=\"1\" class=\"dataframe\">\n",
       "  <thead>\n",
       "    <tr style=\"text-align: right;\">\n",
       "      <th></th>\n",
       "      <th>p_cat</th>\n",
       "      <th>p_prob</th>\n",
       "      <th>p_id</th>\n",
       "    </tr>\n",
       "  </thead>\n",
       "  <tbody>\n",
       "    <tr>\n",
       "      <th>0</th>\n",
       "      <td>1</td>\n",
       "      <td>0.948333</td>\n",
       "      <td>2398</td>\n",
       "    </tr>\n",
       "    <tr>\n",
       "      <th>1</th>\n",
       "      <td>1</td>\n",
       "      <td>0.948333</td>\n",
       "      <td>21524</td>\n",
       "    </tr>\n",
       "    <tr>\n",
       "      <th>2</th>\n",
       "      <td>1</td>\n",
       "      <td>0.940000</td>\n",
       "      <td>982</td>\n",
       "    </tr>\n",
       "    <tr>\n",
       "      <th>3</th>\n",
       "      <td>1</td>\n",
       "      <td>0.940000</td>\n",
       "      <td>7102</td>\n",
       "    </tr>\n",
       "    <tr>\n",
       "      <th>4</th>\n",
       "      <td>1</td>\n",
       "      <td>0.940000</td>\n",
       "      <td>12258</td>\n",
       "    </tr>\n",
       "  </tbody>\n",
       "</table>\n",
       "</div>"
      ],
      "text/plain": [
       "   p_cat    p_prob   p_id\n",
       "0      1  0.948333   2398\n",
       "1      1  0.948333  21524\n",
       "2      1  0.940000    982\n",
       "3      1  0.940000   7102\n",
       "4      1  0.940000  12258"
      ]
     },
     "execution_count": 27,
     "metadata": {},
     "output_type": "execute_result"
    }
   ],
   "source": [
    "pysqldf(\"SELECT * FROM df_pred ORDER BY p_prob DESC LIMIT 5\")"
   ]
  },
  {
   "cell_type": "code",
   "execution_count": 53,
   "metadata": {},
   "outputs": [
    {
     "data": {
      "text/plain": [
       "array([[0.98725932, 0.01274068]])"
      ]
     },
     "execution_count": 53,
     "metadata": {},
     "output_type": "execute_result"
    }
   ],
   "source": [
    "symptom_clf.predict_proba([[0,0,0,0,0,0,0,0,0,0,0,0,0,0,0,0]])"
   ]
  },
  {
   "cell_type": "code",
   "execution_count": 30,
   "metadata": {},
   "outputs": [
    {
     "data": {
      "text/plain": [
       "array([[0.69, 0.31]])"
      ]
     },
     "execution_count": 30,
     "metadata": {},
     "output_type": "execute_result"
    }
   ],
   "source": [
    "symptom_clf.predict_proba([[1,1,1,1,1,1,1,1,1,1,1,1,1,1,1,1]])"
   ]
  },
  {
   "cell_type": "code",
   "execution_count": 31,
   "metadata": {},
   "outputs": [
    {
     "data": {
      "text/plain": [
       "array([[0.9284916, 0.0715084]])"
      ]
     },
     "execution_count": 31,
     "metadata": {},
     "output_type": "execute_result"
    }
   ],
   "source": [
    "symptom_clf.predict_proba([list(df_symptoms.iloc[123][2:-1])])"
   ]
  },
  {
   "cell_type": "code",
   "execution_count": 47,
   "metadata": {},
   "outputs": [
    {
     "data": {
      "text/plain": [
       "array([[0.98198261, 0.01801739]])"
      ]
     },
     "execution_count": 47,
     "metadata": {},
     "output_type": "execute_result"
    }
   ],
   "source": [
    "symptom_clf.predict_proba([[1,1,0,0,0,0,0,0,0,0,0,0,0,0,0,0]])"
   ]
  },
  {
   "cell_type": "code",
   "execution_count": 48,
   "metadata": {},
   "outputs": [],
   "source": [
    "y_pred = symptom_clf.predict(df_symptoms.iloc[:, 2:-1])"
   ]
  },
  {
   "cell_type": "code",
   "execution_count": 51,
   "metadata": {},
   "outputs": [
    {
     "data": {
      "text/plain": [
       "(93995, 310)"
      ]
     },
     "execution_count": 51,
     "metadata": {},
     "output_type": "execute_result"
    }
   ],
   "source": [
    "len(y_pred), y_pred.sum()"
   ]
  },
  {
   "cell_type": "markdown",
   "metadata": {},
   "source": [
    "### Accuracy: \n",
    "\n",
    "How often did the predicted value match the actual value\n",
    "\n",
    "### Precision: \n",
    "\n",
    "When you predicted a positive result, how often was the actual value positive?\n",
    "\n",
    "### Recall: \n",
    "\n",
    "When the actual value was positive, how often did you predict a positive value?\n",
    "\n",
    "### Visual:\n",
    "\n",
    "https://en.wikipedia.org/wiki/Precision_and_recall"
   ]
  },
  {
   "cell_type": "code",
   "execution_count": 39,
   "metadata": {},
   "outputs": [
    {
     "name": "stdout",
     "output_type": "stream",
     "text": [
      "Precision: 0.926 / Recall: 0.219 / Accuracy: 0.989\n"
     ]
    }
   ],
   "source": [
    "precision, recall, fscore, train_support = score(df_symptoms['R'], y_pred, pos_label=1, average='binary')\n",
    "print('Precision: {} / Recall: {} / Accuracy: {}'.format(\n",
    "    round(precision, 3), round(recall, 3), round((y_pred==df_symptoms['R']).sum()/len(y_pred), 3)))"
   ]
  },
  {
   "cell_type": "code",
   "execution_count": 40,
   "metadata": {},
   "outputs": [],
   "source": [
    "from sklearn.ensemble import RandomForestClassifier, GradientBoostingClassifier"
   ]
  },
  {
   "cell_type": "code",
   "execution_count": 41,
   "metadata": {},
   "outputs": [],
   "source": [
    "symptom_gb = GradientBoostingClassifier(n_estimators=150, max_depth=11)"
   ]
  },
  {
   "cell_type": "code",
   "execution_count": 42,
   "metadata": {},
   "outputs": [],
   "source": [
    "model_gb = symptom_gb.fit(df_symptoms.iloc[:, 2:-1], df_symptoms['R'])"
   ]
  },
  {
   "cell_type": "code",
   "execution_count": 43,
   "metadata": {},
   "outputs": [],
   "source": [
    "y_pred = model_gb.predict(df_symptoms.iloc[:, 2:-1])"
   ]
  },
  {
   "cell_type": "code",
   "execution_count": 44,
   "metadata": {},
   "outputs": [
    {
     "name": "stdout",
     "output_type": "stream",
     "text": [
      "Precision: 0.9 / Recall: 0.226 / Accuracy: 0.989\n"
     ]
    }
   ],
   "source": [
    "precision, recall, fscore, train_support = score(df_symptoms['R'], y_pred, pos_label=1, average='binary')\n",
    "print('Precision: {} / Recall: {} / Accuracy: {}'.format(\n",
    "    round(precision, 3), round(recall, 3), round((y_pred==df_symptoms['R']).sum()/len(y_pred), 3)))"
   ]
  },
  {
   "cell_type": "code",
   "execution_count": null,
   "metadata": {},
   "outputs": [],
   "source": []
  }
 ],
 "metadata": {
  "kernelspec": {
   "display_name": "Python 3",
   "language": "python",
   "name": "python3"
  },
  "language_info": {
   "codemirror_mode": {
    "name": "ipython",
    "version": 3
   },
   "file_extension": ".py",
   "mimetype": "text/x-python",
   "name": "python",
   "nbconvert_exporter": "python",
   "pygments_lexer": "ipython3",
   "version": "3.8.3"
  }
 },
 "nbformat": 4,
 "nbformat_minor": 2
}
