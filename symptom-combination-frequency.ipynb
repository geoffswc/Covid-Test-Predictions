{
 "cells": [
  {
   "cell_type": "code",
   "execution_count": 28,
   "metadata": {},
   "outputs": [],
   "source": [
    "import pandas as pd\n",
    "import glob\n",
    "from pandasql import sqldf\n",
    "pysqldf = lambda q: sqldf(q, globals())\n",
    "pd.set_option('display.max_columns', None)"
   ]
  },
  {
   "cell_type": "code",
   "execution_count": 29,
   "metadata": {},
   "outputs": [],
   "source": [
    "all_files = glob.glob('data/*.csv')\n",
    "df = pd.concat((pd.read_csv(f) for f in all_files), sort=False)"
   ]
  },
  {
   "cell_type": "code",
   "execution_count": 30,
   "metadata": {},
   "outputs": [],
   "source": [
    "df_symptoms = pysqldf(\"\"\"\n",
    "SELECT\n",
    "    covid19_test_results = 'Positive' as R,\n",
    "    temperature,\n",
    "    high_risk_exposure_occupation,\n",
    "    high_risk_interactions,\n",
    "    labored_respiration,\n",
    "    rhonchi,\n",
    "    cough,\n",
    "    fever,\n",
    "    sob,\n",
    "    diarrhea,\n",
    "    fatigue,\n",
    "    headache,\n",
    "    loss_of_smell,\n",
    "    loss_of_taste,\n",
    "    runny_nose,\n",
    "    sore_throat\n",
    "FROM\n",
    "    df\n",
    "\"\"\")"
   ]
  },
  {
   "cell_type": "code",
   "execution_count": 31,
   "metadata": {},
   "outputs": [],
   "source": [
    "df_symptoms.fillna(df_symptoms.mean(),inplace=True)"
   ]
  },
  {
   "cell_type": "code",
   "execution_count": 34,
   "metadata": {},
   "outputs": [],
   "source": [
    "combination_count = pysqldf(\"\"\"\n",
    "SELECT\n",
    "    COUNT(*),\n",
    "    R,\n",
    "    temperature,\n",
    "    high_risk_exposure_occupation,\n",
    "    high_risk_interactions,\n",
    "    labored_respiration,\n",
    "    rhonchi,\n",
    "    cough,\n",
    "    fever,\n",
    "    sob,\n",
    "    diarrhea,\n",
    "    fatigue,\n",
    "    headache,\n",
    "    loss_of_smell,\n",
    "    loss_of_taste,\n",
    "    runny_nose,\n",
    "    sore_throat\n",
    "FROM\n",
    "    df_symptoms\n",
    "GROUP BY\n",
    "    temperature,\n",
    "    high_risk_exposure_occupation,\n",
    "    high_risk_interactions,\n",
    "    labored_respiration,\n",
    "    rhonchi,\n",
    "    cough,\n",
    "    fever,\n",
    "    sob,\n",
    "    diarrhea,\n",
    "    fatigue,\n",
    "    headache,\n",
    "    loss_of_smell,\n",
    "    loss_of_taste,\n",
    "    runny_nose,\n",
    "    sore_throat\n",
    "HAVING COUNT(*) > 10\n",
    "ORDER BY COUNT(*) DESC\n",
    "\"\"\")"
   ]
  },
  {
   "cell_type": "code",
   "execution_count": 33,
   "metadata": {},
   "outputs": [],
   "source": [
    "combination_count"
   ]
  },
  {
   "cell_type": "code",
   "execution_count": null,
   "metadata": {},
   "outputs": [],
   "source": []
  }
 ],
 "metadata": {
  "kernelspec": {
   "display_name": "Python 3",
   "language": "python",
   "name": "python3"
  },
  "language_info": {
   "codemirror_mode": {
    "name": "ipython",
    "version": 3
   },
   "file_extension": ".py",
   "mimetype": "text/x-python",
   "name": "python",
   "nbconvert_exporter": "python",
   "pygments_lexer": "ipython3",
   "version": "3.6.8"
  }
 },
 "nbformat": 4,
 "nbformat_minor": 2
}
