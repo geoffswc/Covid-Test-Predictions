{
 "cells": [
  {
   "cell_type": "markdown",
   "metadata": {},
   "source": [
    "### Dealing with Class Imbalance\n",
    "\n",
    "Positive COVID tests are rare in this dataset (a negative covid test is ~70 times more common than a positive one). If we don't adjust for that, the model could achieve a very high accuracy rate by simply predicting a negative test for every scenario.\n",
    "\n",
    "This is a common scenario in detecting rare events. This is a fairly nuanced area of machine learning classification, but for this case, we will look for ways to improve model recall (see below)\n",
    "\n",
    "To address this, we'll tell the Random Forest to **give more weight to rare classes** by setting class weights, either to \"balanced\" or by establishing our own weighting ratios for positive and negative test results. This helps the model pay more attention to underrepresented cases."
   ]
  },
  {
   "cell_type": "markdown",
   "metadata": {},
   "source": [
    "#### Accuracy: \n",
    "\n",
    "How often did the predicted value match the actual value\n",
    "\n",
    "#### Precision: \n",
    "\n",
    "When you predicted a positive result, how often was the actual value positive?\n",
    "\n",
    "#### Recall: \n",
    "\n",
    "When the actual value was positive, how often did you predict a positive value?\n",
    "\n",
    "#### Visual:\n",
    "\n",
    "https://en.wikipedia.org/wiki/Precision_and_recall"
   ]
  },
  {
   "cell_type": "code",
   "execution_count": 1,
   "metadata": {},
   "outputs": [],
   "source": [
    "#!pip install pandasql"
   ]
  },
  {
   "cell_type": "code",
   "execution_count": 2,
   "metadata": {},
   "outputs": [],
   "source": [
    "import pandas as pd\n",
    "\n",
    "import numpy as np\n",
    "\n",
    "from pandasql import sqldf\n",
    "pysqldf = lambda q: sqldf(q, globals())\n",
    "\n",
    "from sklearn.pipeline import Pipeline\n",
    "from sklearn.ensemble import RandomForestClassifier\n",
    "from sklearn.model_selection import cross_val_score\n",
    "from sklearn.metrics import precision_recall_fscore_support as score\n",
    "from sklearn.utils.class_weight import compute_class_weight\n",
    "from sklearn.metrics import classification_report\n",
    "from sklearn.model_selection import train_test_split"
   ]
  },
  {
   "cell_type": "code",
   "execution_count": 3,
   "metadata": {},
   "outputs": [],
   "source": [
    "pd.set_option('display.max_columns', None)"
   ]
  },
  {
   "cell_type": "code",
   "execution_count": 4,
   "metadata": {},
   "outputs": [],
   "source": [
    "df_symptoms = pd.read_csv('test_data/results_symptoms.csv')"
   ]
  },
  {
   "cell_type": "code",
   "execution_count": 5,
   "metadata": {},
   "outputs": [],
   "source": [
    "# it can be useful to set a numerical id for each row as a column\n",
    "df_symptoms[\"id\"] = df_symptoms.index"
   ]
  },
  {
   "cell_type": "code",
   "execution_count": 6,
   "metadata": {},
   "outputs": [
    {
     "data": {
      "text/html": [
       "<div>\n",
       "<style scoped>\n",
       "    .dataframe tbody tr th:only-of-type {\n",
       "        vertical-align: middle;\n",
       "    }\n",
       "\n",
       "    .dataframe tbody tr th {\n",
       "        vertical-align: top;\n",
       "    }\n",
       "\n",
       "    .dataframe thead th {\n",
       "        text-align: right;\n",
       "    }\n",
       "</style>\n",
       "<table border=\"1\" class=\"dataframe\">\n",
       "  <thead>\n",
       "    <tr style=\"text-align: right;\">\n",
       "      <th></th>\n",
       "      <th>covid19_test_results</th>\n",
       "      <th>temperature</th>\n",
       "      <th>high_risk_exposure_occupation</th>\n",
       "      <th>high_risk_interactions</th>\n",
       "      <th>labored_respiration</th>\n",
       "      <th>rhonchi</th>\n",
       "      <th>cough</th>\n",
       "      <th>cough_severity</th>\n",
       "      <th>fever</th>\n",
       "      <th>sob</th>\n",
       "      <th>sob_severity</th>\n",
       "      <th>diarrhea</th>\n",
       "      <th>fatigue</th>\n",
       "      <th>headache</th>\n",
       "      <th>loss_of_smell</th>\n",
       "      <th>loss_of_taste</th>\n",
       "      <th>runny_nose</th>\n",
       "      <th>muscle_sore</th>\n",
       "      <th>sore_throat</th>\n",
       "      <th>wheezes</th>\n",
       "      <th>id</th>\n",
       "    </tr>\n",
       "  </thead>\n",
       "  <tbody>\n",
       "    <tr>\n",
       "      <th>0</th>\n",
       "      <td>0</td>\n",
       "      <td>37.00</td>\n",
       "      <td>0</td>\n",
       "      <td>0</td>\n",
       "      <td>0</td>\n",
       "      <td>0</td>\n",
       "      <td>0</td>\n",
       "      <td>-1</td>\n",
       "      <td>0</td>\n",
       "      <td>0</td>\n",
       "      <td>-1</td>\n",
       "      <td>0</td>\n",
       "      <td>0</td>\n",
       "      <td>0</td>\n",
       "      <td>0</td>\n",
       "      <td>0</td>\n",
       "      <td>0</td>\n",
       "      <td>0</td>\n",
       "      <td>0</td>\n",
       "      <td>0</td>\n",
       "      <td>0</td>\n",
       "    </tr>\n",
       "    <tr>\n",
       "      <th>1</th>\n",
       "      <td>0</td>\n",
       "      <td>36.75</td>\n",
       "      <td>0</td>\n",
       "      <td>0</td>\n",
       "      <td>0</td>\n",
       "      <td>1</td>\n",
       "      <td>0</td>\n",
       "      <td>-1</td>\n",
       "      <td>0</td>\n",
       "      <td>0</td>\n",
       "      <td>-1</td>\n",
       "      <td>0</td>\n",
       "      <td>0</td>\n",
       "      <td>0</td>\n",
       "      <td>0</td>\n",
       "      <td>0</td>\n",
       "      <td>0</td>\n",
       "      <td>0</td>\n",
       "      <td>0</td>\n",
       "      <td>1</td>\n",
       "      <td>1</td>\n",
       "    </tr>\n",
       "    <tr>\n",
       "      <th>2</th>\n",
       "      <td>0</td>\n",
       "      <td>36.95</td>\n",
       "      <td>0</td>\n",
       "      <td>0</td>\n",
       "      <td>0</td>\n",
       "      <td>0</td>\n",
       "      <td>0</td>\n",
       "      <td>-1</td>\n",
       "      <td>0</td>\n",
       "      <td>0</td>\n",
       "      <td>-1</td>\n",
       "      <td>0</td>\n",
       "      <td>0</td>\n",
       "      <td>0</td>\n",
       "      <td>0</td>\n",
       "      <td>0</td>\n",
       "      <td>0</td>\n",
       "      <td>0</td>\n",
       "      <td>0</td>\n",
       "      <td>0</td>\n",
       "      <td>2</td>\n",
       "    </tr>\n",
       "    <tr>\n",
       "      <th>3</th>\n",
       "      <td>0</td>\n",
       "      <td>36.85</td>\n",
       "      <td>0</td>\n",
       "      <td>0</td>\n",
       "      <td>0</td>\n",
       "      <td>0</td>\n",
       "      <td>0</td>\n",
       "      <td>-1</td>\n",
       "      <td>0</td>\n",
       "      <td>0</td>\n",
       "      <td>-1</td>\n",
       "      <td>0</td>\n",
       "      <td>0</td>\n",
       "      <td>0</td>\n",
       "      <td>0</td>\n",
       "      <td>0</td>\n",
       "      <td>0</td>\n",
       "      <td>0</td>\n",
       "      <td>0</td>\n",
       "      <td>0</td>\n",
       "      <td>3</td>\n",
       "    </tr>\n",
       "    <tr>\n",
       "      <th>4</th>\n",
       "      <td>0</td>\n",
       "      <td>37.00</td>\n",
       "      <td>0</td>\n",
       "      <td>1</td>\n",
       "      <td>0</td>\n",
       "      <td>0</td>\n",
       "      <td>0</td>\n",
       "      <td>-1</td>\n",
       "      <td>0</td>\n",
       "      <td>0</td>\n",
       "      <td>-1</td>\n",
       "      <td>0</td>\n",
       "      <td>1</td>\n",
       "      <td>1</td>\n",
       "      <td>0</td>\n",
       "      <td>0</td>\n",
       "      <td>0</td>\n",
       "      <td>0</td>\n",
       "      <td>0</td>\n",
       "      <td>0</td>\n",
       "      <td>4</td>\n",
       "    </tr>\n",
       "  </tbody>\n",
       "</table>\n",
       "</div>"
      ],
      "text/plain": [
       "   covid19_test_results  temperature  high_risk_exposure_occupation  \\\n",
       "0                     0        37.00                              0   \n",
       "1                     0        36.75                              0   \n",
       "2                     0        36.95                              0   \n",
       "3                     0        36.85                              0   \n",
       "4                     0        37.00                              0   \n",
       "\n",
       "   high_risk_interactions  labored_respiration  rhonchi  cough  \\\n",
       "0                       0                    0        0      0   \n",
       "1                       0                    0        1      0   \n",
       "2                       0                    0        0      0   \n",
       "3                       0                    0        0      0   \n",
       "4                       1                    0        0      0   \n",
       "\n",
       "   cough_severity  fever  sob  sob_severity  diarrhea  fatigue  headache  \\\n",
       "0              -1      0    0            -1         0        0         0   \n",
       "1              -1      0    0            -1         0        0         0   \n",
       "2              -1      0    0            -1         0        0         0   \n",
       "3              -1      0    0            -1         0        0         0   \n",
       "4              -1      0    0            -1         0        1         1   \n",
       "\n",
       "   loss_of_smell  loss_of_taste  runny_nose  muscle_sore  sore_throat  \\\n",
       "0              0              0           0            0            0   \n",
       "1              0              0           0            0            0   \n",
       "2              0              0           0            0            0   \n",
       "3              0              0           0            0            0   \n",
       "4              0              0           0            0            0   \n",
       "\n",
       "   wheezes  id  \n",
       "0        0   0  \n",
       "1        1   1  \n",
       "2        0   2  \n",
       "3        0   3  \n",
       "4        0   4  "
      ]
     },
     "execution_count": 6,
     "metadata": {},
     "output_type": "execute_result"
    }
   ],
   "source": [
    "df_symptoms.head(5)"
   ]
  },
  {
   "cell_type": "code",
   "execution_count": 7,
   "metadata": {},
   "outputs": [
    {
     "name": "stdout",
     "output_type": "stream",
     "text": [
      "{0: 0.5070852095351814, 1: 35.78477157360406} 70.56954314720812\n"
     ]
    }
   ],
   "source": [
    "# Get the unique classes from y_train\n",
    "# Compute balanced weights for each class based on their frequency in y_train\n",
    "# Create a dictionary mapping each class to its computed weight\n",
    "# Print the dictionary and the ratio of the weight for class 1 over class 0\n",
    "\n",
    "# Define features and target\n",
    "X = df_symptoms.iloc[:, 2:-1]\n",
    "y = df_symptoms['covid19_test_results']\n",
    "\n",
    "# Train-test split\n",
    "X_train, X_test, y_train, y_test = train_test_split(X, y, test_size=0.25, stratify=y, random_state=42)\n",
    "\n",
    "classes = np.unique(y_train)\n",
    "weights = compute_class_weight(class_weight='balanced', classes=classes, y=y_train)\n",
    "\n",
    "class_weights = dict(zip(classes, weights))\n",
    "print(class_weights, class_weights[1]/class_weights[0])"
   ]
  },
  {
   "cell_type": "code",
   "execution_count": 8,
   "metadata": {},
   "outputs": [
    {
     "name": "stdout",
     "output_type": "stream",
     "text": [
      "              precision    recall  f1-score   support\n",
      "\n",
      "           0       0.99      0.92      0.95     23171\n",
      "           1       0.04      0.21      0.06       328\n",
      "\n",
      "    accuracy                           0.91     23499\n",
      "   macro avg       0.51      0.57      0.51     23499\n",
      "weighted avg       0.97      0.91      0.94     23499\n",
      "\n"
     ]
    },
    {
     "data": {
      "text/plain": [
       "<sklearn.metrics._plot.confusion_matrix.ConfusionMatrixDisplay at 0x7f904acde0e0>"
      ]
     },
     "execution_count": 8,
     "metadata": {},
     "output_type": "execute_result"
    },
    {
     "data": {
      "image/png": "[encoded data removed]",
      "text/plain": [
       "<Figure size 640x480 with 2 Axes>"
      ]
     },
     "metadata": {},
     "output_type": "display_data"
    }
   ],
   "source": [
    "# as an exercise, try changing the class weights to see how\n",
    "# you can increase recall, and note what impact this has on other\n",
    "# metrics such as accuracy and precision.\n",
    "# also, take a look at what it does to predictions, and whether\n",
    "# the model has started behaving unreliably.\n",
    "\n",
    "from sklearn.ensemble import RandomForestClassifier\n",
    "from sklearn.model_selection import train_test_split\n",
    "from sklearn.metrics import classification_report, ConfusionMatrixDisplay\n",
    "\n",
    "# no class weight adjustment\n",
    "#rf_balanced = RandomForestClassifier(random_state=42)\n",
    "\n",
    "#manual class weight adjustment\n",
    "class_weights = {0: 1.0, 1: 10.0}  # Example: class 1 is weighted 10x more than class 0\n",
    "rf_balanced = RandomForestClassifier(class_weight=class_weights, random_state=42)\n",
    "\n",
    "#automatically adjusts the weight for each class inversely proportional to its frequency in the training data.\n",
    "#per the cell above, this is a 1:70 weighting, which may be so extreme\n",
    "#it produces unexpected and inaccurate results\n",
    "rf_balanced = RandomForestClassifier(class_weight='balanced', random_state=42)\n",
    "\n",
    "rf_balanced.fit(X_train, y_train)\n",
    "\n",
    "# Predictions and evaluation\n",
    "y_pred_balanced = rf_balanced.predict(X_test)\n",
    "print(classification_report(y_test, y_pred_balanced))\n",
    "\n",
    "# Confusion matrix\n",
    "ConfusionMatrixDisplay.from_estimator(rf_balanced, X_test, y_test)"
   ]
  },
  {
   "cell_type": "code",
   "execution_count": 9,
   "metadata": {},
   "outputs": [
    {
     "data": {
      "text/plain": [
       "array([0.05146963, 0.05521702, 0.00882882, 0.0192401 , 0.13728274,\n",
       "       0.13522331, 0.09865271, 0.02462005, 0.03599726, 0.02686799,\n",
       "       0.04389835, 0.06352256, 0.07805045, 0.04900038, 0.03919343,\n",
       "       0.06635881, 0.04200323, 0.02457315])"
      ]
     },
     "execution_count": 9,
     "metadata": {},
     "output_type": "execute_result"
    }
   ],
   "source": [
    "#uncomment if you'd like to see the raw feature imporatances\n",
    "#commented out because we'll use them to build a pandas\n",
    "#dataframe for easier visualization\n",
    "rf_balanced.feature_importances_"
   ]
  },
  {
   "cell_type": "code",
   "execution_count": 10,
   "metadata": {},
   "outputs": [],
   "source": [
    "feature_df = pd.DataFrame({'feature':df_symptoms.columns[2:-1], \n",
    "                           'importance': rf_balanced.feature_importances_})"
   ]
  },
  {
   "cell_type": "code",
   "execution_count": 11,
   "metadata": {},
   "outputs": [
    {
     "data": {
      "text/html": [
       "<div>\n",
       "<style scoped>\n",
       "    .dataframe tbody tr th:only-of-type {\n",
       "        vertical-align: middle;\n",
       "    }\n",
       "\n",
       "    .dataframe tbody tr th {\n",
       "        vertical-align: top;\n",
       "    }\n",
       "\n",
       "    .dataframe thead th {\n",
       "        text-align: right;\n",
       "    }\n",
       "</style>\n",
       "<table border=\"1\" class=\"dataframe\">\n",
       "  <thead>\n",
       "    <tr style=\"text-align: right;\">\n",
       "      <th></th>\n",
       "      <th>feature</th>\n",
       "      <th>importance</th>\n",
       "    </tr>\n",
       "  </thead>\n",
       "  <tbody>\n",
       "    <tr>\n",
       "      <th>0</th>\n",
       "      <td>cough</td>\n",
       "      <td>0.137283</td>\n",
       "    </tr>\n",
       "    <tr>\n",
       "      <th>1</th>\n",
       "      <td>cough_severity</td>\n",
       "      <td>0.135223</td>\n",
       "    </tr>\n",
       "    <tr>\n",
       "      <th>2</th>\n",
       "      <td>fever</td>\n",
       "      <td>0.098653</td>\n",
       "    </tr>\n",
       "    <tr>\n",
       "      <th>3</th>\n",
       "      <td>loss_of_smell</td>\n",
       "      <td>0.078050</td>\n",
       "    </tr>\n",
       "    <tr>\n",
       "      <th>4</th>\n",
       "      <td>muscle_sore</td>\n",
       "      <td>0.066359</td>\n",
       "    </tr>\n",
       "    <tr>\n",
       "      <th>5</th>\n",
       "      <td>headache</td>\n",
       "      <td>0.063523</td>\n",
       "    </tr>\n",
       "    <tr>\n",
       "      <th>6</th>\n",
       "      <td>high_risk_interactions</td>\n",
       "      <td>0.055217</td>\n",
       "    </tr>\n",
       "    <tr>\n",
       "      <th>7</th>\n",
       "      <td>high_risk_exposure_occupation</td>\n",
       "      <td>0.051470</td>\n",
       "    </tr>\n",
       "    <tr>\n",
       "      <th>8</th>\n",
       "      <td>loss_of_taste</td>\n",
       "      <td>0.049000</td>\n",
       "    </tr>\n",
       "    <tr>\n",
       "      <th>9</th>\n",
       "      <td>fatigue</td>\n",
       "      <td>0.043898</td>\n",
       "    </tr>\n",
       "    <tr>\n",
       "      <th>10</th>\n",
       "      <td>sore_throat</td>\n",
       "      <td>0.042003</td>\n",
       "    </tr>\n",
       "    <tr>\n",
       "      <th>11</th>\n",
       "      <td>runny_nose</td>\n",
       "      <td>0.039193</td>\n",
       "    </tr>\n",
       "    <tr>\n",
       "      <th>12</th>\n",
       "      <td>sob_severity</td>\n",
       "      <td>0.035997</td>\n",
       "    </tr>\n",
       "    <tr>\n",
       "      <th>13</th>\n",
       "      <td>diarrhea</td>\n",
       "      <td>0.026868</td>\n",
       "    </tr>\n",
       "    <tr>\n",
       "      <th>14</th>\n",
       "      <td>sob</td>\n",
       "      <td>0.024620</td>\n",
       "    </tr>\n",
       "    <tr>\n",
       "      <th>15</th>\n",
       "      <td>wheezes</td>\n",
       "      <td>0.024573</td>\n",
       "    </tr>\n",
       "    <tr>\n",
       "      <th>16</th>\n",
       "      <td>rhonchi</td>\n",
       "      <td>0.019240</td>\n",
       "    </tr>\n",
       "    <tr>\n",
       "      <th>17</th>\n",
       "      <td>labored_respiration</td>\n",
       "      <td>0.008829</td>\n",
       "    </tr>\n",
       "  </tbody>\n",
       "</table>\n",
       "</div>"
      ],
      "text/plain": [
       "                          feature  importance\n",
       "0                           cough    0.137283\n",
       "1                  cough_severity    0.135223\n",
       "2                           fever    0.098653\n",
       "3                   loss_of_smell    0.078050\n",
       "4                     muscle_sore    0.066359\n",
       "5                        headache    0.063523\n",
       "6          high_risk_interactions    0.055217\n",
       "7   high_risk_exposure_occupation    0.051470\n",
       "8                   loss_of_taste    0.049000\n",
       "9                         fatigue    0.043898\n",
       "10                    sore_throat    0.042003\n",
       "11                     runny_nose    0.039193\n",
       "12                   sob_severity    0.035997\n",
       "13                       diarrhea    0.026868\n",
       "14                            sob    0.024620\n",
       "15                        wheezes    0.024573\n",
       "16                        rhonchi    0.019240\n",
       "17            labored_respiration    0.008829"
      ]
     },
     "execution_count": 11,
     "metadata": {},
     "output_type": "execute_result"
    }
   ],
   "source": [
    "pysqldf(\"SELECT * FROM feature_df ORDER BY importance DESC\")"
   ]
  },
  {
   "cell_type": "code",
   "execution_count": 12,
   "metadata": {},
   "outputs": [
    {
     "name": "stderr",
     "output_type": "stream",
     "text": [
      "/Users/nms-workshop/anaconda3/lib/python3.10/site-packages/sklearn/base.py:420: UserWarning: X does not have valid feature names, but RandomForestClassifier was fitted with feature names\n",
      "  warnings.warn(\n"
     ]
    },
    {
     "data": {
      "text/plain": [
       "array([[0.71, 0.29]])"
      ]
     },
     "execution_count": 12,
     "metadata": {},
     "output_type": "execute_result"
    }
   ],
   "source": [
    "rf_balanced.predict_proba([[1,1,1,1,1,1,1,1,1,1,1,1,1,1,1,1,1,1]])"
   ]
  },
  {
   "cell_type": "code",
   "execution_count": 13,
   "metadata": {},
   "outputs": [
    {
     "name": "stderr",
     "output_type": "stream",
     "text": [
      "/Users/nms-workshop/anaconda3/lib/python3.10/site-packages/sklearn/base.py:420: UserWarning: X does not have valid feature names, but RandomForestClassifier was fitted with feature names\n",
      "  warnings.warn(\n"
     ]
    },
    {
     "data": {
      "text/plain": [
       "array([[0.3983675, 0.6016325]])"
      ]
     },
     "execution_count": 13,
     "metadata": {},
     "output_type": "execute_result"
    }
   ],
   "source": [
    "# come back to this later, and experiment with it\n",
    "rf_balanced.predict_proba([[0,0,0,0,0,0,0,0,0,0,0,0,0,0,0,0,0,0]])"
   ]
  },
  {
   "cell_type": "code",
   "execution_count": 14,
   "metadata": {},
   "outputs": [
    {
     "ename": "NameError",
     "evalue": "name 'y_pred' is not defined",
     "output_type": "error",
     "traceback": [
      "\u001b[0;31m---------------------------------------------------------------------------\u001b[0m",
      "\u001b[0;31mNameError\u001b[0m                                 Traceback (most recent call last)",
      "Cell \u001b[0;32mIn[14], line 1\u001b[0m\n\u001b[0;32m----> 1\u001b[0m precision, recall, fscore, train_support \u001b[38;5;241m=\u001b[39m score(df_symptoms[\u001b[38;5;124m'\u001b[39m\u001b[38;5;124mcovid19_test_results\u001b[39m\u001b[38;5;124m'\u001b[39m], \u001b[43my_pred\u001b[49m, pos_label\u001b[38;5;241m=\u001b[39m\u001b[38;5;241m1\u001b[39m, average\u001b[38;5;241m=\u001b[39m\u001b[38;5;124m'\u001b[39m\u001b[38;5;124mbinary\u001b[39m\u001b[38;5;124m'\u001b[39m)\n\u001b[1;32m      2\u001b[0m \u001b[38;5;28mprint\u001b[39m(\u001b[38;5;124m'\u001b[39m\u001b[38;5;124mPrecision: \u001b[39m\u001b[38;5;132;01m{}\u001b[39;00m\u001b[38;5;124m / Recall: \u001b[39m\u001b[38;5;132;01m{}\u001b[39;00m\u001b[38;5;124m / Accuracy: \u001b[39m\u001b[38;5;132;01m{}\u001b[39;00m\u001b[38;5;124m'\u001b[39m\u001b[38;5;241m.\u001b[39mformat(\n\u001b[1;32m      3\u001b[0m     \u001b[38;5;28mround\u001b[39m(precision, \u001b[38;5;241m3\u001b[39m), \u001b[38;5;28mround\u001b[39m(recall, \u001b[38;5;241m3\u001b[39m), \u001b[38;5;28mround\u001b[39m((y_pred\u001b[38;5;241m==\u001b[39mdf_symptoms[\u001b[38;5;124m'\u001b[39m\u001b[38;5;124mcovid19_test_results\u001b[39m\u001b[38;5;124m'\u001b[39m])\u001b[38;5;241m.\u001b[39msum()\u001b[38;5;241m/\u001b[39m\u001b[38;5;28mlen\u001b[39m(y_pred), \u001b[38;5;241m3\u001b[39m)))\n",
      "\u001b[0;31mNameError\u001b[0m: name 'y_pred' is not defined"
     ]
    }
   ],
   "source": [
    "precision, recall, fscore, train_support = score(df_symptoms['covid19_test_results'], y_pred, pos_label=1, average='binary')\n",
    "print('Precision: {} / Recall: {} / Accuracy: {}'.format(\n",
    "    round(precision, 3), round(recall, 3), round((y_pred==df_symptoms['covid19_test_results']).sum()/len(y_pred), 3)))"
   ]
  },
  {
   "cell_type": "markdown",
   "metadata": {},
   "source": [
    "### Comparing Class Balancing and Threshold Adjustment\n",
    "\n",
    "In this section, we compare three approaches to handling class imbalance:\n",
    "\n",
    "1. A model trained with **default settings** (no class weighting).\n",
    "2. A model trained with **`class_weight='balanced'`**, which gives more weight to the minority class during training.\n",
    "3. A model trained with `class_weight='balanced'`, but evaluated using a **lower decision threshold (e.g., 0.3)** to increase recall.\n",
    "\n",
    "These strategies address imbalance at different stages:\n",
    "\n",
    "- **Class weighting** helps the model *learn* more about the minority class during training.\n",
    "- **Threshold adjustment** lets us *tune the model's behavior* during prediction, trading off precision and recall depending on our goals.\n",
    "\n",
    "By comparing these side by side, we can see how each technique affects performance—especially in recall, which is often more important when trying to flag rare but important cases.\n"
   ]
  },
  {
   "cell_type": "code",
   "execution_count": null,
   "metadata": {},
   "outputs": [],
   "source": [
    "X_train, X_test, y_train, y_test = train_test_split(X, y, stratify=y, random_state=42)\n",
    "\n",
    "# 1. Model without class balancing\n",
    "rf_default = RandomForestClassifier(random_state=42)\n",
    "rf_default.fit(X_train, y_train)\n",
    "\n",
    "# 2. Model with class_weight='balanced'\n",
    "rf_balanced = RandomForestClassifier(class_weight='balanced', random_state=42)\n",
    "rf_balanced.fit(X_train, y_train)\n",
    "\n",
    "# Predict with default threshold (0.5)\n",
    "y_pred_default = rf_default.predict(X_test)\n",
    "y_pred_balanced = rf_balanced.predict(X_test)\n",
    "\n",
    "# Predict with threshold adjustment (e.g., 0.3)\n",
    "y_probs_balanced = rf_balanced.predict_proba(X_test)[:, 1]\n",
    "y_pred_thresh = (y_probs_balanced >= 0.3).astype(int)\n",
    "\n",
    "# Show results\n",
    "print(\"=== Default model (no class_weight) ===\")\n",
    "print(classification_report(y_test, y_pred_default))\n",
    "\n",
    "print(\"=== Balanced model (class_weight='balanced') ===\")\n",
    "print(classification_report(y_test, y_pred_balanced))\n",
    "\n",
    "print(\"=== Balanced model + threshold = 0.3 ===\")\n",
    "print(classification_report(y_test, y_pred_thresh))\n"
   ]
  },
  {
   "cell_type": "markdown",
   "metadata": {},
   "source": [
    "### Summary: Class Imbalance Strategies\n",
    "\n",
    "This comparison shows how different modeling strategies affect performance in an imbalanced classification task:\n",
    "\n",
    "- The **default model** has high overall accuracy, but nearly ignores the minority class (very low recall).\n",
    "- Adding **`class_weight='balanced'`** helps the model recognize more positive cases, improving recall at the cost of some precision and accuracy.\n",
    "- Combining class weighting with a **lower decision threshold (e.g., 0.3)** pushes recall even higher, but drastically lowers precision—many false positives are flagged.\n",
    "\n",
    "This highlights an important trade-off:  \n",
    "If our goal is to **maximize recall**—such as when prioritizing who gets tested during a resource shortage—then tuning for recall may be appropriate, even if overall accuracy drops.  \n",
    "A model doesn't need perfect performance to be **useful for decision-making**, especially when guiding how to allocate limited resources.\n"
   ]
  },
  {
   "cell_type": "markdown",
   "metadata": {},
   "source": [
    "### Exercise: Custom Class Weights and Threshold Tuning\n",
    "\n",
    "We're dealing with a lot of moving parts here. We can set a custom class balancer, and we can set a custom threshold (in the above example, we used the class ratio as our balancer, which may be too extreme). \n",
    "\n",
    "As an exercise, try combining custom class weights with decision threshold adjustment to see if you improve model performance on imbalanced data. Remember, it's all about trade-offs between precision, recall, and accuracy, you aren't going to find a perfect solution (and considering how hard it would be to predict a covid result without a test, you may struggle to find a useful solution, though a limited model could still be useful for allocating scarce tests, more on this at the end)\n",
    "\n",
    "**How you might approach this:**\n",
    "\n",
    "1. Define custom class weights to give more importance to the minority class (e.g., `{0: 1, 1: 15}`).\n",
    "2. Train your model using these weights.\n",
    "3. Use `predict_proba()` to get predicted probabilities on your test set.\n",
    "4. Experiment with different probability thresholds (e.g., 0.5, 0.4, 0.3) to convert probabilities into class predictions.\n",
    "5. Evaluate how these thresholds affect precision, recall, and F1-score to find a balance that fits your goals.\n",
    "\n",
    "This hands-on tuning helps you understand the trade-offs and how to tailor models for real-world needs where catching rare but critical cases is vital.\n"
   ]
  },
  {
   "cell_type": "markdown",
   "metadata": {},
   "source": [
    "### Dealing with Class Imbalance\n",
    "\n",
    "Positive COVID tests are rare in this dataset (a negative covid test is ~70 times more common than a positive one). If we don't adjust for that, the model may mostly predict \"negative\" and still look accurate.\n",
    "\n",
    "To address this, we'll tell the Random Forest to **give more weight to rare classes** by setting `class_weight='balanced'`. This helps the model pay more attention to underrepresented cases.\n"
   ]
  },
  {
   "cell_type": "markdown",
   "metadata": {},
   "source": [
    "### Tutorial Wrap-Up: Purpose and Practical Insights\n",
    "\n",
    "The primary purpose of this tutorial was to learn how to build and interpret a model, not to understand COVID testing or develop a clinical tool.\n",
    "\n",
    "It is unlikely that we can build a highly accurate prediction model based on symptoms alone—if such a model existed, why would so much time, energy, and resources be spent on testing? However, even a modest model like this *can* help improve how we allocate those scarce testing resources.\n",
    "\n",
    "Along these lines, this example clearly illustrates why a model with modest overall performance can still be very useful in practice. Even if accuracy, precision, or F1 scores indicate a very limited model, we can gain valuable insights into which symptoms (features) influence the predictions the most. This understanding can help prioritize further investigation or data collection.\n",
    "\n",
    "Moreover, by focusing on maximizing recall—catching as many positive cases as possible—the model can help **allocate scarce testing resources more effectively**. In situations where testing capacity is limited, prioritizing individuals flagged by the model for testing can support better public health outcomes, even if the model produces false positives.\n",
    "\n",
    "Overall, this exercise shows that machine learning models don’t always need to be perfect to add real value. They can aid decision-making by providing interpretable insights and guiding resource allocation in complex, real-world scenarios.\n",
    "\n"
   ]
  },
  {
   "cell_type": "code",
   "execution_count": null,
   "metadata": {},
   "outputs": [],
   "source": []
  }
 ],
 "metadata": {
  "kernelspec": {
   "display_name": "Python 3 (ipykernel)",
   "language": "python",
   "name": "python3"
  },
  "language_info": {
   "codemirror_mode": {
    "name": "ipython",
    "version": 3
   },
   "file_extension": ".py",
   "mimetype": "text/x-python",
   "name": "python",
   "nbconvert_exporter": "python",
   "pygments_lexer": "ipython3",
   "version": "3.10.9"
  }
 },
 "nbformat": 4,
 "nbformat_minor": 4
}
